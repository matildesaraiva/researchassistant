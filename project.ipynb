{
 "cells": [
  {
   "cell_type": "code",
   "execution_count": 22,
   "id": "5c32db80-a5e4-478b-835d-e92e7ab511f3",
   "metadata": {
    "scrolled": true
   },
   "outputs": [],
   "source": [
    "import os\n",
    "from dotenv import load_dotenv\n",
    "import openai\n",
    "import PyPDF2\n",
    "\n",
    "from sentence_transformers import SentenceTransformer\n",
    "from langchain_community.vectorstores import FAISS\n",
    "\n",
    "from sentence_transformers import SentenceTransformer\n",
    "from langchain_community.vectorstores import FAISS\n",
    "import numpy as np\n",
    "\n",
    "import streamlit as st"
   ]
  },
  {
   "cell_type": "markdown",
   "id": "8c4b3db2-13fb-42d0-9eee-86cce2e031b5",
   "metadata": {},
   "source": [
    "Data Collection and Data Preparation"
   ]
  },
  {
   "cell_type": "code",
   "execution_count": 15,
   "id": "f6300bef-7011-4048-a0ac-121cc3e20648",
   "metadata": {},
   "outputs": [],
   "source": [
    "def extract_text_from_pdfs(pdf_dir):\n",
    "    \"\"\"\n",
    "    Extract text from all PDF files in the specified directory.\n",
    "    \n",
    "    Args:\n",
    "        pdf_dir (str): Directory containing PDF files.\n",
    "        \n",
    "    Returns:\n",
    "        List of strings: Extracted text from each PDF file.\n",
    "    \"\"\"\n",
    "    text_data = []\n",
    "    for pdf_file in os.listdir(pdf_dir):\n",
    "        if pdf_file.endswith('.pdf'):\n",
    "            with open(os.path.join(pdf_dir, pdf_file), 'rb') as file:\n",
    "                reader = PyPDF2.PdfReader(file)\n",
    "                text = ''\n",
    "                for page in range(len(reader.pages)):\n",
    "                    text += reader.pages[page].extract_text()\n",
    "                text_data.append(text)\n",
    "                #print(f\"Extracted from {pdf_file}: {text}\")\n",
    "    return text_data\n",
    "\n",
    "# Directory containing PDF files\n",
    "pdf_texts = extract_text_from_pdfs('data')\n",
    "#print(pdf_texts)"
   ]
  },
  {
   "cell_type": "code",
   "execution_count": 25,
   "id": "d974eb2e-72fb-4ca6-830a-a11ae29f39b0",
   "metadata": {},
   "outputs": [
    {
     "name": "stderr",
     "output_type": "stream",
     "text": [
      "Batches: 100%|███████████████████████████████████████████████████████████████████████████████████████████████████████████████████████████████████████████| 1/1 [00:00<00:00,  1.13it/s]\n"
     ]
    },
    {
     "ename": "TypeError",
     "evalue": "FAISS.__init__() missing 4 required positional arguments: 'embedding_function', 'index', 'docstore', and 'index_to_docstore_id'",
     "output_type": "error",
     "traceback": [
      "\u001b[1;31m---------------------------------------------------------------------------\u001b[0m",
      "\u001b[1;31mTypeError\u001b[0m                                 Traceback (most recent call last)",
      "Cell \u001b[1;32mIn[25], line 13\u001b[0m\n\u001b[0;32m     10\u001b[0m embeddings \u001b[38;5;241m=\u001b[39m model\u001b[38;5;241m.\u001b[39mencode(pdf_texts, show_progress_bar\u001b[38;5;241m=\u001b[39m\u001b[38;5;28;01mTrue\u001b[39;00m)\n\u001b[0;32m     12\u001b[0m \u001b[38;5;66;03m# Create the FAISS index\u001b[39;00m\n\u001b[1;32m---> 13\u001b[0m index \u001b[38;5;241m=\u001b[39m \u001b[43mFAISS\u001b[49m\u001b[43m(\u001b[49m\u001b[43m)\u001b[49m\n\u001b[0;32m     15\u001b[0m \u001b[38;5;66;03m# Add the embeddings to the FAISS index\u001b[39;00m\n\u001b[0;32m     16\u001b[0m \u001b[38;5;66;03m# Assuming the add_embeddings method or equivalent exists\u001b[39;00m\n\u001b[0;32m     17\u001b[0m \u001b[38;5;28;01mfor\u001b[39;00m i, embedding \u001b[38;5;129;01min\u001b[39;00m \u001b[38;5;28menumerate\u001b[39m(embeddings):\n",
      "\u001b[1;31mTypeError\u001b[0m: FAISS.__init__() missing 4 required positional arguments: 'embedding_function', 'index', 'docstore', and 'index_to_docstore_id'"
     ]
    }
   ],
   "source": [
    "from sentence_transformers import SentenceTransformer\n",
    "from langchain_community.vectorstores import FAISS\n",
    "import numpy as np\n",
    "\n",
    "# Load pre-trained sentence transformer model\n",
    "model = SentenceTransformer('all-MiniLM-L6-v2')\n",
    "\n",
    "# Assume pdf_texts is a list of strings containing text extracted from PDFs\n",
    "# Encode the extracted text data\n",
    "embeddings = model.encode(pdf_texts, show_progress_bar=True)\n",
    "\n",
    "# Create the FAISS index\n",
    "index = FAISS()\n",
    "\n",
    "# Add the embeddings to the FAISS index\n",
    "# Assuming the add_embeddings method or equivalent exists\n",
    "for i, embedding in enumerate(embeddings):\n",
    "    index.add_embedding(embedding, str(i), pdf_texts[i])  # Assuming you can directly add the embedding with its ID and original content\n",
    "\n",
    "# Save the FAISS index to disk\n",
    "index.save('faiss_index.idx')\n"
   ]
  },
  {
   "cell_type": "code",
   "execution_count": null,
   "id": "6a86e146-a0ea-4f9c-9677-78bf23f1e255",
   "metadata": {},
   "outputs": [],
   "source": []
  }
 ],
 "metadata": {
  "kernelspec": {
   "display_name": "researchassistant",
   "language": "python",
   "name": "researchassistant"
  },
  "language_info": {
   "codemirror_mode": {
    "name": "ipython",
    "version": 3
   },
   "file_extension": ".py",
   "mimetype": "text/x-python",
   "name": "python",
   "nbconvert_exporter": "python",
   "pygments_lexer": "ipython3",
   "version": "3.11.1"
  }
 },
 "nbformat": 4,
 "nbformat_minor": 5
}
