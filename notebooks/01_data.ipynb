{
 "cells": [
  {
   "cell_type": "markdown",
   "id": "8c4b3db2-13fb-42d0-9eee-86cce2e031b5",
   "metadata": {},
   "source": [
    "Data Collection and Data Preparation"
   ]
  },
  {
   "cell_type": "code",
   "execution_count": 4,
   "id": "5c32db80-a5e4-478b-835d-e92e7ab511f3",
   "metadata": {},
   "outputs": [],
   "source": [
    "#pip install PyPDF2\n",
    "import os\n",
    "import PyPDF2"
   ]
  },
  {
   "cell_type": "code",
   "execution_count": null,
   "id": "f6300bef-7011-4048-a0ac-121cc3e20648",
   "metadata": {},
   "outputs": [],
   "source": [
    "def extract_text_from_pdfs(pdf_dir):\n",
    "    \"\"\"\n",
    "    Extract text from all PDF files in the specified directory.\n",
    "    \n",
    "    Args:\n",
    "        pdf_dir (str): Directory containing PDF files.\n",
    "        \n",
    "    Returns:\n",
    "        List of strings: Extracted text from each PDF file.\n",
    "    \"\"\"\n",
    "    text_data = []\n",
    "    for pdf_file in os.listdir(pdf_dir):\n",
    "        if pdf_file.endswith('.pdf'):\n",
    "            with open(os.path.join(pdf_dir, pdf_file), 'rb') as file:\n",
    "                reader = PyPDF2.PdfFileReader(file)\n",
    "                text = ''\n",
    "                for page in range(reader.numPages):\n",
    "                    text += reader.getPage(page).extract_text()\n",
    "                text_data.append(text)\n",
    "    return text_data\n",
    "\n",
    "# Directory containing PDF files\n",
    "pdf_texts = extract_text_from_pdfs('path/to/pdf/directory')"
   ]
  }
 ],
 "metadata": {
  "kernelspec": {
   "display_name": "Python 3 (ipykernel)",
   "language": "python",
   "name": "python3"
  },
  "language_info": {
   "codemirror_mode": {
    "name": "ipython",
    "version": 3
   },
   "file_extension": ".py",
   "mimetype": "text/x-python",
   "name": "python",
   "nbconvert_exporter": "python",
   "pygments_lexer": "ipython3",
   "version": "3.8.7"
  }
 },
 "nbformat": 4,
 "nbformat_minor": 5
}
